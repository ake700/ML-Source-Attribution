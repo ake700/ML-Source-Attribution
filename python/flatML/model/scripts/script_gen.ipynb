{
 "cells": [
  {
   "cell_type": "code",
   "execution_count": 2,
   "id": "28de0e97-dd97-436e-9d93-80d04ec64a68",
   "metadata": {},
   "outputs": [],
   "source": [
    "import glob\n",
    "import os \n",
    "import re"
   ]
  },
  {
   "cell_type": "code",
   "execution_count": 21,
   "id": "59d840f8-c2af-4e45-8169-5cf46d629a0d",
   "metadata": {},
   "outputs": [],
   "source": [
    "# Define the directory containing the scripts, adjust as necessary\n",
    "folders_to_process = ['RandomForest/']  # Current directory; change this to the directory containing your scripts\n",
    "\n",
    "# List of seeds to create new config files for\n",
    "seeds = [34, 42, 777]"
   ]
  },
  {
   "cell_type": "code",
   "execution_count": 20,
   "id": "0fb38272-b6d9-4945-8825-e2f18df79d25",
   "metadata": {},
   "outputs": [],
   "source": [
    "# Function to determine the appropriate config filename based on conditions\n",
    "def generate_config_filename(original_name, seed):\n",
    "    \"\"\"\n",
    "    Generate the new configuration filename based on specific naming criteria.\n",
    "    \"\"\"\n",
    "    # Regex pattern handling \"I:4,[5],12:i:-\" and \"Kentucky\"\n",
    "    if \"I:4,[5],12:i:-\" in original_name:\n",
    "        return f\"model_config_{seed}_f10_4512.yml\"\n",
    "    elif \"Kentucky\" in original_name:\n",
    "        return f\"model_config_{seed}_f10_kentucky.yml\"\n",
    "    else:\n",
    "        return f\"model_config_{seed}_f10.yml\"\n",
    "    \n",
    "# Mapping of folders to patterns\n",
    "folder_patterns = {\n",
    "    \"GBC/\": \"gbc_allele_*_FN.py\",\n",
    "    \"SVM/\": \"svm_allele_*_FN.py\",\n",
    "    \"RandomForest/\": \"RF_allele_*_FN.py\",\n",
    "    \"LogitBoost/\": \"lb_allele_*_FN.py\"\n",
    "}"
   ]
  },
  {
   "cell_type": "code",
   "execution_count": 22,
   "id": "c7377b3e-cc64-47d1-8a19-792f58173af3",
   "metadata": {},
   "outputs": [
    {
     "name": "stdout",
     "output_type": "stream",
     "text": [
      "Created: RandomForest/RF_f10_34_allele_I:4,[5],12:i:-_FN_FN.py\n",
      "Created: RandomForest/RF_f10_42_allele_I:4,[5],12:i:-_FN_FN.py\n",
      "Created: RandomForest/RF_f10_777_allele_I:4,[5],12:i:-_FN_FN.py\n",
      "Created: RandomForest/RF_f10_34_allele_Infantis_FN_FN.py\n",
      "Created: RandomForest/RF_f10_42_allele_Infantis_FN_FN.py\n",
      "Created: RandomForest/RF_f10_777_allele_Infantis_FN_FN.py\n",
      "Created: RandomForest/RF_f10_34_allele_Typhimurium_FN_FN.py\n",
      "Created: RandomForest/RF_f10_42_allele_Typhimurium_FN_FN.py\n",
      "Created: RandomForest/RF_f10_777_allele_Typhimurium_FN_FN.py\n",
      "Created: RandomForest/RF_f10_34_allele_Heidelberg_FN_FN.py\n",
      "Created: RandomForest/RF_f10_42_allele_Heidelberg_FN_FN.py\n",
      "Created: RandomForest/RF_f10_777_allele_Heidelberg_FN_FN.py\n",
      "Created: RandomForest/RF_f10_34_allele_Enteritidis_FN_FN.py\n",
      "Created: RandomForest/RF_f10_42_allele_Enteritidis_FN_FN.py\n",
      "Created: RandomForest/RF_f10_777_allele_Enteritidis_FN_FN.py\n",
      "Created: RandomForest/RF_f10_34_allele_Kentucky_FN_FN.py\n",
      "Created: RandomForest/RF_f10_42_allele_Kentucky_FN_FN.py\n",
      "Created: RandomForest/RF_f10_777_allele_Kentucky_FN_FN.py\n"
     ]
    }
   ],
   "source": [
    "# Iterate over each folder and its specific pattern\n",
    "for folder, pattern in folder_patterns.items():\n",
    "    # Skip folders not in the explicitly specified list\n",
    "    if folder not in folders_to_process:\n",
    "        continue\n",
    "\n",
    "    # Wildcard pattern to identify the required files in each folder\n",
    "    script_pattern = os.path.join(folder, pattern)\n",
    "    scripts = glob.glob(script_pattern)\n",
    "\n",
    "    # Extract the model prefix (first part of the pattern)\n",
    "    model_prefix = pattern.split('_')[0]\n",
    "\n",
    "    # Loop through each file and create the new copies as needed\n",
    "    for script in scripts:\n",
    "        original_name = os.path.basename(script)\n",
    "        base_name = re.sub(r\"^.*_allele_\", \"\", original_name).replace(\".py\", \"\")\n",
    "\n",
    "        for seed in seeds:\n",
    "            # Generate the new script name prefixed with the model name\n",
    "            new_script_name = f\"{model_prefix}_f10_{seed}_allele_{base_name}_FN.py\"\n",
    "            new_script_path = os.path.join(folder, new_script_name)\n",
    "\n",
    "            # Read the original file content\n",
    "            with open(script, 'r') as infile:\n",
    "                content = infile.read()\n",
    "\n",
    "            # Replace the config path according to the seed number\n",
    "            new_config_path = generate_config_filename(base_name, seed)\n",
    "            new_content = re.sub(\n",
    "                r\"config_path\\s*=\\s*'.+\\.yml'\",\n",
    "                f\"config_path = '/Drives/K/ake/python_ML/TW_SourceAttribution/ML_ake/FoodNet/{new_config_path}'\",\n",
    "                content\n",
    "            )\n",
    "\n",
    "            # Write the modified content into the new script file\n",
    "            with open(new_script_path, 'w') as outfile:\n",
    "                outfile.write(new_content)\n",
    "\n",
    "            print(f\"Created: {new_script_path}\")"
   ]
  }
 ],
 "metadata": {
  "kernelspec": {
   "display_name": "Python (ake_ml)",
   "language": "python",
   "name": "ake_ml"
  },
  "language_info": {
   "codemirror_mode": {
    "name": "ipython",
    "version": 3
   },
   "file_extension": ".py",
   "mimetype": "text/x-python",
   "name": "python",
   "nbconvert_exporter": "python",
   "pygments_lexer": "ipython3",
   "version": "3.12.0"
  }
 },
 "nbformat": 4,
 "nbformat_minor": 5
}
